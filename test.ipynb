{
 "cells": [
  {
   "cell_type": "code",
   "execution_count": 24,
   "metadata": {},
   "outputs": [
    {
     "name": "stdout",
     "output_type": "stream",
     "text": [
      "The model has 4.852054595947266 MB trainable parameters\n"
     ]
    }
   ],
   "source": [
    "from svoice.models.swave import SWave\n",
    "# calculate number of parameters\n",
    "model= SWave(64,8,64,4,2,800,4,False)\n",
    "num_params = sum(p.numel() for p in model.parameters())*4 / 2**20   # 4 bytes/number\n",
    "print(f'The model has {num_params} MB trainable parameters')"
   ]
  },
  {
   "cell_type": "code",
   "execution_count": 9,
   "metadata": {},
   "outputs": [
    {
     "name": "stdout",
     "output_type": "stream",
     "text": [
      "tensor(3.8656)\n"
     ]
    }
   ],
   "source": [
    "from svoice.models.sisnr_loss import cal_si_snr_with_pit, reorder_source, cal_loss\n",
    "import torch\n",
    "\n",
    "source1 = torch.randn(1, 1, 8)\n",
    "source2 = torch.randn(1, 1, 8)\n",
    "length = torch.tensor([8])\n",
    "print(cal_loss(source1, source2,length)[0])\n"
   ]
  },
  {
   "cell_type": "code",
   "execution_count": 12,
   "metadata": {},
   "outputs": [],
   "source": [
    "'''STFT-based Loss modules.'''\n",
    "\n",
    "import torch\n",
    "import torch.nn.functional as F\n",
    "\n",
    "\n",
    "def stft(x, fft_size, hop_size, win_length, window):\n",
    "    \"\"\"Perform STFT and convert to magnitude spectrogram.\n",
    "    Args:\n",
    "        x (Tensor): Input signal tensor (B, T).\n",
    "        fft_size (int): FFT size.\n",
    "        hop_size (int): Hop size.the distance between neighboring sliding window frames.\n",
    "        win_length (int): Window length.\n",
    "        window (str): Window function type.\n",
    "    Returns:\n",
    "        Tensor: Magnitude spectrogram (B, #frames, fft_size // 2 + 1).\n",
    "    \"\"\"\n",
    "    x_stft = torch.stft(x, fft_size, hop_size, win_length, window)\n",
    "    real = x_stft[..., 0]\n",
    "    imag = x_stft[..., 1]\n",
    "\n",
    "    # NOTE(kan-bayashi): clamp is needed to avoid nan or inf\n",
    "    return torch.sqrt(torch.clamp(real ** 2 + imag ** 2, min=1e-7)).transpose(2, 1)\n",
    "\n",
    "\n",
    "class SpectralConvergengeLoss(torch.nn.Module):\n",
    "    \"\"\"Spectral convergence loss module.\"\"\"\n",
    "\n",
    "    def __init__(self):\n",
    "        \"\"\"Initilize spectral convergence loss module.\"\"\"\n",
    "        super(SpectralConvergengeLoss, self).__init__()\n",
    "\n",
    "    def forward(self, x_mag, y_mag):\n",
    "        \"\"\"Calculate forward propagation.\n",
    "        Args:\n",
    "            x_mag (Tensor): Magnitude spectrogram of predicted signal (B, #frames, #freq_bins).\n",
    "            y_mag (Tensor): Magnitude spectrogram of groundtruth signal (B, #frames, #freq_bins).\n",
    "        Returns:\n",
    "            Tensor: Spectral convergence loss value.\n",
    "        \"\"\"\n",
    "        return torch.norm(y_mag - x_mag, p=\"fro\") / torch.norm(y_mag, p=\"fro\")\n",
    "\n",
    "\n",
    "class LogSTFTMagnitudeLoss(torch.nn.Module):\n",
    "    \"\"\"Log STFT magnitude loss module.\"\"\"\n",
    "\n",
    "    def __init__(self):\n",
    "        \"\"\"Initilize los STFT magnitude loss module.\"\"\"\n",
    "        super(LogSTFTMagnitudeLoss, self).__init__()\n",
    "\n",
    "    def forward(self, x_mag, y_mag):\n",
    "        \"\"\"Calculate forward propagation.\n",
    "        Args:\n",
    "            x_mag (Tensor): Magnitude spectrogram of predicted signal (B, #frames, #freq_bins).\n",
    "            y_mag (Tensor): Magnitude spectrogram of groundtruth signal (B, #frames, #freq_bins).\n",
    "        Returns:\n",
    "            Tensor: Log STFT magnitude loss value.\n",
    "        \"\"\"\n",
    "        return F.l1_loss(torch.log(y_mag), torch.log(x_mag))\n",
    "\n",
    "\n",
    "class STFTLoss(torch.nn.Module):\n",
    "    \"\"\"STFT loss module.\"\"\"\n",
    "\n",
    "    def __init__(self, fft_size=1024, shift_size=120, win_length=600, window=\"hann_window\"):\n",
    "        \"\"\"Initialize STFT loss module.\"\"\"\n",
    "        super(STFTLoss, self).__init__()\n",
    "        self.fft_size = fft_size\n",
    "        self.shift_size = shift_size\n",
    "        self.win_length = win_length\n",
    "        self.register_buffer(\"window\", getattr(torch, window)(win_length))\n",
    "        self.spectral_convergenge_loss = SpectralConvergengeLoss()\n",
    "        self.log_stft_magnitude_loss = LogSTFTMagnitudeLoss()\n",
    "\n",
    "    def forward(self, x, y):\n",
    "        \"\"\"Calculate forward propagation.\n",
    "        Args:\n",
    "            x (Tensor): Predicted signal (B, T).\n",
    "            y (Tensor): Groundtruth signal (B, T).\n",
    "        Returns:\n",
    "            Tensor: Spectral convergence loss value.\n",
    "            Tensor: Log STFT magnitude loss value.\n",
    "        \"\"\"\n",
    "        x_mag = stft(x, self.fft_size, self.shift_size, self.win_length, self.window)\n",
    "        y_mag = stft(y, self.fft_size, self.shift_size, self.win_length, self.window)\n",
    "        sc_loss = self.spectral_convergenge_loss(x_mag, y_mag)\n",
    "        mag_loss = self.log_stft_magnitude_loss(x_mag, y_mag)\n",
    "\n",
    "        return sc_loss, mag_loss\n",
    "\n",
    "\n",
    "class MultiResolutionSTFTLoss(torch.nn.Module):\n",
    "    \"\"\"Multi resolution STFT loss module.\"\"\"\n",
    "\n",
    "    def __init__(self,\n",
    "                 fft_sizes=[2],\n",
    "                 hop_sizes=[2],\n",
    "                 win_lengths=[2],\n",
    "                 window=\"hann_window\", factor_sc=0.1, factor_mag=0.1):\n",
    "        \"\"\"Initialize Multi resolution STFT loss module.\n",
    "        Args:\n",
    "            fft_sizes (list): List of FFT sizes.\n",
    "            hop_sizes (list): List of hop sizes.\n",
    "            win_lengths (list): List of window lengths.\n",
    "            window (str): Window function type.\n",
    "            factor (float): a balancing factor across different losses.\n",
    "        \"\"\"\n",
    "        super(MultiResolutionSTFTLoss, self).__init__()\n",
    "        assert len(fft_sizes) == len(hop_sizes) == len(win_lengths)\n",
    "        self.stft_losses = torch.nn.ModuleList()\n",
    "        for fs, ss, wl in zip(fft_sizes, hop_sizes, win_lengths):\n",
    "            self.stft_losses += [STFTLoss(fs, ss, wl, window)]\n",
    "        self.factor_sc = factor_sc\n",
    "        self.factor_mag = factor_mag\n",
    "\n",
    "    def forward(self, x, y):\n",
    "        \"\"\"Calculate forward propagation.\n",
    "        Args:\n",
    "            x (Tensor): Predicted signal (B, T).\n",
    "            y (Tensor): Groundtruth signal (B, T).\n",
    "        Returns:\n",
    "            Tensor: Multi resolution spectral convergence loss value.\n",
    "            Tensor: Multi resolution log STFT magnitude loss value.\n",
    "        \"\"\"\n",
    "        sc_loss = 0.0\n",
    "        mag_loss = 0.0\n",
    "        for f in self.stft_losses:\n",
    "            sc_l, mag_l = f(x, y)\n",
    "            sc_loss += sc_l\n",
    "            mag_loss += mag_l\n",
    "        sc_loss /= len(self.stft_losses)\n",
    "        mag_loss /= len(self.stft_losses)\n",
    "\n",
    "        return self.factor_sc*sc_loss, self.factor_mag*mag_loss"
   ]
  },
  {
   "cell_type": "code",
   "execution_count": 14,
   "metadata": {},
   "outputs": [
    {
     "name": "stdout",
     "output_type": "stream",
     "text": [
      "(tensor(0.0533), tensor(0.0660))\n"
     ]
    }
   ],
   "source": [
    "cal_stft_loss=MultiResolutionSTFTLoss()\n",
    "print(cal_stft_loss(source1.squeeze(1),source2.squeeze(1)))"
   ]
  },
  {
   "cell_type": "code",
   "execution_count": 2,
   "metadata": {},
   "outputs": [],
   "source": [
    "from torch.optim.lr_scheduler import ReduceLROnPlateau, StepLR,MultiStepLR\n",
    "from torchvision.models import resnet18\n",
    "import torch"
   ]
  },
  {
   "cell_type": "code",
   "execution_count": 23,
   "metadata": {},
   "outputs": [
    {
     "name": "stdout",
     "output_type": "stream",
     "text": [
      "0 , {'step_size': 4, 'gamma': 0.2, 'base_lrs': [0.001], 'last_epoch': 0, '_step_count': 1, '_get_lr_called_within_step': False, '_last_lr': [0.001]}\n",
      "1 , {'step_size': 4, 'gamma': 0.2, 'base_lrs': [0.001], 'last_epoch': 1, '_step_count': 2, '_get_lr_called_within_step': False, '_last_lr': [0.001]}\n",
      "2 , {'step_size': 4, 'gamma': 0.2, 'base_lrs': [0.001], 'last_epoch': 2, '_step_count': 3, '_get_lr_called_within_step': False, '_last_lr': [0.001]}\n",
      "3 , {'step_size': 4, 'gamma': 0.2, 'base_lrs': [0.001], 'last_epoch': 3, '_step_count': 4, '_get_lr_called_within_step': False, '_last_lr': [0.001]}\n",
      "4 , {'step_size': 4, 'gamma': 0.2, 'base_lrs': [0.001], 'last_epoch': 4, '_step_count': 5, '_get_lr_called_within_step': False, '_last_lr': [0.0002]}\n"
     ]
    },
    {
     "name": "stderr",
     "output_type": "stream",
     "text": [
      "/root/miniconda/envs/svoice/lib/python3.7/site-packages/torch/optim/lr_scheduler.py:123: UserWarning: Detected call of `lr_scheduler.step()` before `optimizer.step()`. In PyTorch 1.1.0 and later, you should call them in the opposite order: `optimizer.step()` before `lr_scheduler.step()`.  Failure to do this will result in PyTorch skipping the first value of the learning rate schedule. See more details at https://pytorch.org/docs/stable/optim.html#how-to-adjust-learning-rate\n",
      "  \"https://pytorch.org/docs/stable/optim.html#how-to-adjust-learning-rate\", UserWarning)\n"
     ]
    }
   ],
   "source": [
    "model=resnet18()\n",
    "optimizer = torch.optim.Adam(model.parameters(), lr=1e-3, betas=(0.9, 0.999))\n",
    "sched=StepLR(optimizer, step_size=4, gamma=0.2)\n",
    "# sched=MultiStepLR(optimizer, milestones=[4], gamma=0.1)\n",
    "for i in range(5):\n",
    "    print(i,',',sched.state_dict())\n",
    "    sched.step()"
   ]
  },
  {
   "attachments": {},
   "cell_type": "markdown",
   "metadata": {},
   "source": [
    "第[5,8,9]个epoch会更新学习率，从0开始索引"
   ]
  }
 ],
 "metadata": {
  "kernelspec": {
   "display_name": "svoice",
   "language": "python",
   "name": "python3"
  },
  "language_info": {
   "codemirror_mode": {
    "name": "ipython",
    "version": 3
   },
   "file_extension": ".py",
   "mimetype": "text/x-python",
   "name": "python",
   "nbconvert_exporter": "python",
   "pygments_lexer": "ipython3",
   "version": "3.7.16"
  },
  "orig_nbformat": 4
 },
 "nbformat": 4,
 "nbformat_minor": 2
}
